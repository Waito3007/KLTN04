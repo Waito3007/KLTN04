{
 "cells": [
  {
   "cell_type": "code",
   "execution_count": null,
   "id": "a905978c",
   "metadata": {
    "vscode": {
     "languageId": "plaintext"
    }
   },
   "outputs": [],
   "source": [
    "# Bước 1: Chuẩn bị dữ liệu\n",
    "import pandas as pd\n",
    "df = pd.read_csv('../data/commits_labeled.csv')  # File đã gán nhãn"
   ]
  },
  {
   "cell_type": "code",
   "execution_count": null,
   "id": "ef01c520",
   "metadata": {
    "vscode": {
     "languageId": "plaintext"
    }
   },
   "outputs": [],
   "source": [
    "# Bước 2: Huấn luyện model commit\n",
    "from models.commit_model import CommitClassifier\n",
    "model = CommitClassifier()\n",
    "model.train(df)\n",
    "model.save()"
   ]
  },
  {
   "cell_type": "code",
   "execution_count": null,
   "id": "abd35e75",
   "metadata": {
    "vscode": {
     "languageId": "plaintext"
    }
   },
   "outputs": [],
   "source": [
    "# Bước 3: Đánh giá\n",
    "from sklearn.metrics import classification_report\n",
    "y_pred = model.predict(df['message'])\n",
    "print(classification_report(df['is_critical'], y_pred))"
   ]
  }
 ],
 "metadata": {
  "language_info": {
   "name": "python"
  }
 },
 "nbformat": 4,
 "nbformat_minor": 5
}
